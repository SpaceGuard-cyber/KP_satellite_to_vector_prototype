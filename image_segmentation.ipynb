{
 "cells": [
  {
   "cell_type": "code",
   "execution_count": 23,
   "metadata": {},
   "outputs": [],
   "source": [
    "import catalyst\n",
    "from catalyst.utils import set_global_seed\n",
    "from tensorflow.python.keras.preprocessing.image import ImageDataGenerator"
   ]
  },
  {
   "cell_type": "code",
   "execution_count": 2,
   "metadata": {},
   "outputs": [],
   "source": [
    "set_global_seed(42)"
   ]
  },
  {
   "cell_type": "code",
   "execution_count": 3,
   "metadata": {},
   "outputs": [
    {
     "data": {
      "text/plain": [
       "'.\\\\dataset'"
      ]
     },
     "execution_count": 3,
     "metadata": {},
     "output_type": "execute_result"
    }
   ],
   "source": [
    "(r'.\\dataset')"
   ]
  },
  {
   "cell_type": "code",
   "execution_count": 11,
   "metadata": {},
   "outputs": [],
   "source": [
    "import os \n",
    "from pathlib import Path\n",
    "from cv2 import erode \n",
    "import cv2\n",
    "import numpy as np\n",
    "import matplotlib.pyplot as plt\n",
    "from skimage.transform import rotate,rescale\n",
    "import catalyst.dl as dl\n",
    "#from catalyst.utils import imread\n",
    "from imageio import imread\n",
    "from PIL import Image\n",
    "\n"
   ]
  },
  {
   "cell_type": "code",
   "execution_count": 12,
   "metadata": {},
   "outputs": [],
   "source": [
    "images = []\n",
    "lesions = []\n",
    "\n",
    "root = 'D:\\KP\\dataset'\n",
    "\n",
    "for root, dirs, files in os.walk(os.path.join(root, 'dataset images')):\n",
    "    if root.endswith('_Dermoscopic_Image'):\n",
    "        images.append(imread(os.path.join(root, files[0])))\n",
    "    if root.endswith('lesion'):\n",
    "        lesions.append(imread(os.path.join(root,files[0])))\n",
    "\n",
    "images = np.array(images)\n",
    "lesions = np.array(lesions)\n"
   ]
  },
  {
   "cell_type": "code",
   "execution_count": null,
   "metadata": {},
   "outputs": [],
   "source": [
    "_, ax = plt.subplot(1,2, figsize=(15,20))\n",
    "\n",
    "ax[0].imshow(images[0])\n",
    "ax[1].imshow(lesions[0])"
   ]
  },
  {
   "cell_type": "code",
   "execution_count": null,
   "metadata": {},
   "outputs": [],
   "source": []
  }
 ],
 "metadata": {
  "interpreter": {
   "hash": "d1797b94fd1cc0ad85cdc904a8ff5a147c53ab6bc8e6723f71fbb124c68b41f6"
  },
  "kernelspec": {
   "display_name": "Python 3.8.8rc1 64-bit",
   "language": "python",
   "name": "python3"
  },
  "language_info": {
   "codemirror_mode": {
    "name": "ipython",
    "version": 3
   },
   "file_extension": ".py",
   "mimetype": "text/x-python",
   "name": "python",
   "nbconvert_exporter": "python",
   "pygments_lexer": "ipython3",
   "version": "3.8.8"
  },
  "orig_nbformat": 4
 },
 "nbformat": 4,
 "nbformat_minor": 2
}
