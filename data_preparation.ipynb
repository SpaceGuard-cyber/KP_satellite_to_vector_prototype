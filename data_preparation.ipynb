{
 "cells": [
  {
   "cell_type": "code",
   "execution_count": 182,
   "metadata": {},
   "outputs": [],
   "source": [
    "import shutil\n",
    "import os\n",
    "import pathlib"
   ]
  },
  {
   "cell_type": "code",
   "execution_count": 183,
   "metadata": {},
   "outputs": [],
   "source": [
    "# Каталог с набором данных спутниковых снимков\n",
    "data_dir = r'D:\\KP\\images\\train'\n",
    "# Каталог с данными для обучения\n",
    "train_dir = r'D:\\KP\\images\\train'\n",
    "# Каталог с данными для проверки\n",
    "val_dir = r'D:\\KP\\images\\val'\n",
    "# Каталог с данными для тестирования\n",
    "test_dir = r'D:\\KP\\images\\test'\n",
    "# Часть набора данных для тестирования\n",
    "test_data_portion = 0.15\n",
    "# Часть набора данных для проверки\n",
    "val_data_portion = 0.15\n",
    "# Количество элементов данных в одном классе\n",
    "nb_images = 1033"
   ]
  },
  {
   "cell_type": "code",
   "execution_count": 184,
   "metadata": {},
   "outputs": [],
   "source": [
    "# Функция создания каталога с двумя подкаталогами по названию классов: satellite и vector\n",
    "def create_directory(dir_name):\n",
    "    if os.path.exists(dir_name):\n",
    "        shutil.rmtree(dir_name)\n",
    "    os.makedirs(dir_name)\n",
    "    os.makedirs(os.path.join(dir_name, \"satellite\"))\n",
    "    os.makedirs(os.path.join(dir_name, \"vector\"))"
   ]
  },
  {
   "cell_type": "code",
   "execution_count": 185,
   "metadata": {},
   "outputs": [],
   "source": [
    "# Создание структуры каталогов для обучающего, проверочного и тестового набора данных\n",
    "\n",
    "#create_directory(train_dir)\n",
    "#create_directory(val_dir)\n",
    "create_directory(test_dir)"
   ]
  },
  {
   "cell_type": "code",
   "execution_count": 186,
   "metadata": {},
   "outputs": [],
   "source": [
    "# Функция копирования изображений в заданный каталог. Изображения спутниковых карт и вектроных карт копируются в отдельные подкаталоги\n",
    "def copy_image(start_index, end_index,source_dir, dest_dir):\n",
    "    images = 1\n",
    "    try:\n",
    "        for i in range(start_index, end_index):\n",
    "            shutil.copy2(pathlib.Path(source_dir)/\"satellite\"/(str(i+images) + \".jpg\"),\n",
    "                        pathlib.Path(dest_dir)/\"satellite\")\n",
    "    except shutil.SameFileError:\n",
    "        pass\n",
    "    try:\n",
    "        for i in range(start_index, end_index):\n",
    "            shutil.copy2(pathlib.Path(source_dir)/\"vector\"/(str(i+images) + \".jpg\"),\n",
    "                        pathlib.Path(dest_dir)/\"vector\")\n",
    "    except shutil.SameFileError:\n",
    "        pass"
   ]
  },
  {
   "cell_type": "code",
   "execution_count": 187,
   "metadata": {},
   "outputs": [
    {
     "name": "stdout",
     "output_type": "stream",
     "text": [
      "723\n",
      "878\n"
     ]
    }
   ],
   "source": [
    "# Расчет индексов наборов данных для обучения, приверки и тестирования\n",
    "start_val_data_idx = int(nb_images * (1 - val_data_portion - test_data_portion))\n",
    "start_test_data_idx = int(nb_images * (1 - test_data_portion))\n",
    "print(start_val_data_idx)\n",
    "print(start_test_data_idx)\n"
   ]
  },
  {
   "cell_type": "code",
   "execution_count": 188,
   "metadata": {},
   "outputs": [],
   "source": [
    "# Копирование изображений\n",
    "copy_image(1, start_val_data_idx, data_dir, train_dir)\n",
    "copy_image(start_val_data_idx, start_test_data_idx, data_dir, val_dir)\n",
    "copy_image(start_test_data_idx, nb_images, data_dir, test_dir)"
   ]
  },
  {
   "cell_type": "code",
   "execution_count": null,
   "metadata": {},
   "outputs": [],
   "source": []
  }
 ],
 "metadata": {
  "interpreter": {
   "hash": "d1797b94fd1cc0ad85cdc904a8ff5a147c53ab6bc8e6723f71fbb124c68b41f6"
  },
  "kernelspec": {
   "display_name": "Python 3.8.8rc1 64-bit",
   "language": "python",
   "name": "python3"
  },
  "language_info": {
   "codemirror_mode": {
    "name": "ipython",
    "version": 3
   },
   "file_extension": ".py",
   "mimetype": "text/x-python",
   "name": "python",
   "nbconvert_exporter": "python",
   "pygments_lexer": "ipython3",
   "version": "3.8.8"
  },
  "orig_nbformat": 4
 },
 "nbformat": 4,
 "nbformat_minor": 2
}
